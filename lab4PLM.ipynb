{
 "cells": [
  {
   "cell_type": "markdown",
   "metadata": {},
   "source": [
    "## Laboratorio 4 - Generación de columnas\n",
    "\n",
    "Integrantes:\n",
    "- Sebastián Gangas\n",
    "- Marco Ipinza\n",
    "- Matías Nuñez\n",
    "- Ignacio Díaz"
   ]
  },
  {
   "cell_type": "code",
   "execution_count": 1,
   "metadata": {},
   "outputs": [
    {
     "name": "stdout",
     "output_type": "stream",
     "text": [
      "Set parameter Username\n",
      "Academic license - for non-commercial use only - expires 2025-03-26\n"
     ]
    },
    {
     "data": {
      "text/plain": [
       "Gurobi.Env(Ptr{Nothing} @0x0000022ac9f105e0, false, 0)"
      ]
     },
     "execution_count": 1,
     "metadata": {},
     "output_type": "execute_result"
    }
   ],
   "source": [
    "# Imports\n",
    "using JuMP, Gurobi, DataFrames\n",
    "const GUROBI_ENV = Gurobi.Env()"
   ]
  },
  {
   "cell_type": "markdown",
   "metadata": {},
   "source": [
    "### Ejercicio 1"
   ]
  },
  {
   "cell_type": "code",
   "execution_count": 2,
   "metadata": {},
   "outputs": [
    {
     "data": {
      "text/plain": [
       "red (generic function with 1 method)"
      ]
     },
     "execution_count": 2,
     "metadata": {},
     "output_type": "execute_result"
    }
   ],
   "source": [
    "function red(nombrearchivo)\n",
    "    archivo = open(nombrearchivo)\n",
    "    lineas = readlines(archivo)\n",
    "    l = length(lineas)\n",
    "    V,k = parse.(Int32, split(lineas[1], ' '))\n",
    "    s = zeros((k))\n",
    "    t = zeros((k))\n",
    "    d = zeros((k))\n",
    "    for i in 1:(k)\n",
    "        si,ti,di = parse.(Int32, split(lineas[i+1], ' '))\n",
    "        s[i] = si\n",
    "        t[i] = ti \n",
    "        d[i] = di\n",
    "    end\n",
    "    E = []\n",
    "    c = zeros((V,V))\n",
    "    u = zeros((V,V))\n",
    "    for z in (k+2):l\n",
    "        linea = lineas[z]\n",
    "        i, j, cij, uij = parse.(Int32, split(linea, ' '))\n",
    "        push!(E, [i,j])\n",
    "        c[i,j] = cij\n",
    "        u[i,j] = uij\n",
    "    end\n",
    "    return (V, k, s, t, d, E, c, u)\n",
    "end"
   ]
  },
  {
   "cell_type": "markdown",
   "metadata": {},
   "source": [
    "### Ejercicio 2"
   ]
  },
  {
   "cell_type": "code",
   "execution_count": 3,
   "metadata": {},
   "outputs": [
    {
     "data": {
      "text/plain": [
       "modelo_MCF (generic function with 1 method)"
      ]
     },
     "execution_count": 3,
     "metadata": {},
     "output_type": "execute_result"
    }
   ],
   "source": [
    "function modelo_MCF(V, K, s, t, d, E, c, u, warm, entero)\n",
    "    mimodelo = Model(optimizer_with_attributes(() -> Gurobi.Optimizer(GUROBI_ENV),\"Presolve\"=> 0, \"OutputFlag\" => 0))\n",
    "    #habria que agregar el a dentro del input supongo\n",
    "    if entero\n",
    "        #if warm \n",
    "        #    @variable(mimodelo, 0<=x[i in 1:V, j in 1:V, k in 1:K], Int, start = a[i,j,k])\n",
    "        #else\n",
    "            @variable(mimodelo, 0<=x[i in 1:V, j in 1:V, k in 1:K], Int)\n",
    "        #end\n",
    "    else\n",
    "        #if warm\n",
    "            @variable(mimodelo, 0<=x[i in 1:V, j in 1:V, k in 1:K], start = a[i,j,k])\n",
    "        #else\n",
    "            @variable(mimodelo, 0<=x[i in 1:V, j in 1:V, k in 1:K], start = a[i,j,k])   \n",
    "        #end\n",
    "    end\n",
    "\n",
    "    @objective(mimodelo, Min, sum(c[i,j]*sum(x[i,j,k] for k in 1:K) for i in 1:V for j in 1:V))\n",
    "\n",
    "    @constraint(mimodelo, capacidad[i in 1:V, j in 1:V], sum(x[i,j,k] for k in 1:K)<=u[i,j])\n",
    "    @constraint(mimodelo, flujo[i in 1:V, k in 1:K], sum(x[i,j,k] for j in 1:V) - sum(x[j,i,k] for j in 1:V) == d[k]*(i==s[k])-d[k]*(i==t[k]))\n",
    "    return mimodelo\n",
    "end"
   ]
  },
  {
   "cell_type": "code",
   "execution_count": 3,
   "metadata": {},
   "outputs": [
    {
     "data": {
      "text/plain": [
       "modelo_MCF (generic function with 1 method)"
      ]
     },
     "execution_count": 3,
     "metadata": {},
     "output_type": "execute_result"
    }
   ],
   "source": [
    "# en lo anterior hay que ver bien el tema de cuando pasamos a dantzig wolfe si los caminos están considerando a wnes inexistentes \n",
    "# principalmente xq la matriz cuadrada nos da más elementos (que debieran tener capacidad 0) y dps no ser considerados como st camino"
   ]
  },
  {
   "cell_type": "code",
   "execution_count": 4,
   "metadata": {},
   "outputs": [
    {
     "data": {
      "text/plain": [
       "df_solucion (generic function with 1 method)"
      ]
     },
     "execution_count": 4,
     "metadata": {},
     "output_type": "execute_result"
    }
   ],
   "source": [
    "function df_solucion(x)\n",
    "    I,J,K = size(x)\n",
    "    flujo = []\n",
    "    E = []\n",
    "    d = []\n",
    "    for i in 1:I\n",
    "        for j in 1:J\n",
    "            if !([i,j] in E)\n",
    "                s = []\n",
    "                push!(E,[i,j])\n",
    "                for k in 1:K\n",
    "                    push!(s,x[i,j,k])\n",
    "                end\n",
    "                push!(d, s)\n",
    "            end\n",
    "        end\n",
    "    end\n",
    "    l = length(E)\n",
    "    M = zeros((k+2,l))\n",
    "    for i in 1:l\n",
    "        M[1,i] = E[i][1]\n",
    "        M[2,i] = E[i][2]\n",
    "        for k in 1:K\n",
    "            M[k,i] = d[i][k]\n",
    "        end\n",
    "    end\n",
    "    i = M[1,:]\n",
    "    j = M[2,:]\n",
    "    df = DataFrame()\n",
    "    df.inicio = i\n",
    "    df.fin = j\n",
    "    for k in 1:K\n",
    "        df[!,:k] = M[k+2,:]\n",
    "    end\n",
    "    print(df)\n",
    "end "
   ]
  },
  {
   "cell_type": "code",
   "execution_count": null,
   "metadata": {},
   "outputs": [],
   "source": [
    "#en la descomposición luego se ignoran los z_c,k porque estos representan caminos por ciclos, pero para llegar a estar en un óptimo si este ocupa ciclos\n",
    "# no debiera ser óptimo (se demuestra por contradicción: se asume que si, notar que los ciclos agregan costo (se justifica con que como la función de\n",
    "# costos por arista es real positiva, no existen ciclos con costo negativo), y como son ciclos vuelven a donde mismo\n",
    "# partieron [si no es el caso entonces ese tramo no era un ciclo, y este está en otro lugar aunque debiera bastar decir que por definición es eso nms])\n",
    "# ahora como vuelven al mismo punto y luego se encaminan hacia el t_k tenemos que podemos tomar el st_k camino que no considera el ciclo: con lo cual hay 2 casos\n",
    "# el costo de z_c,k es >0 (con lo cual obtubimos un costo menor contradicción con que es óptimo). el costo es = 0, con ello tenemos que el \n",
    "# tomar el ciclo o no no impacta al costo minimal, con lo cual podemos no considerarlo y aún así estamos en un óptimo "
   ]
  }
 ],
 "metadata": {
  "kernelspec": {
   "display_name": "Julia 1.10.2",
   "language": "julia",
   "name": "julia-1.10"
  },
  "language_info": {
   "file_extension": ".jl",
   "mimetype": "application/julia",
   "name": "julia",
   "version": "1.10.2"
  }
 },
 "nbformat": 4,
 "nbformat_minor": 4
}
